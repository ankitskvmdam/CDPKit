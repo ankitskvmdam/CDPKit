{
 "cells": [
  {
   "cell_type": "markdown",
   "metadata": {},
   "source": [
    "# Molecular Input/Output\n",
    "Installation\n",
    "------------\n",
    "The package can be installed via pip:\n"
   ]
  },
  {
   "cell_type": "code",
   "execution_count": 2,
   "metadata": {},
   "outputs": [
    {
     "name": "stdout",
     "output_type": "stream",
     "text": [
      "Collecting cdpkit\n",
      "  Downloading CDPKit-0.9.0.tar.gz (69.0 MB)\n",
      "\u001b[2K     \u001b[90m━━━━━━━━━━━━━━━━━━━━━━━━━━━━━━━━━━━━━━━━\u001b[0m \u001b[32m69.0/69.0 MB\u001b[0m \u001b[31m7.3 MB/s\u001b[0m eta \u001b[36m0:00:00\u001b[0m00:01\u001b[0m00:01\u001b[0m\n",
      "\u001b[?25h  Installing build dependencies ... \u001b[?25ldone\n",
      "\u001b[?25h  Getting requirements to build wheel ... \u001b[?25ldone\n",
      "\u001b[?25h  Preparing metadata (pyproject.toml) ... \u001b[?25ldone\n",
      "\u001b[?25hBuilding wheels for collected packages: cdpkit\n",
      "  Building wheel for cdpkit (pyproject.toml) ... \u001b[?25ldone\n",
      "\u001b[?25h  Created wheel for cdpkit: filename=CDPKit-0.9.0-cp39-cp39-linux_x86_64.whl size=76790417 sha256=a414ac07ea08b876c0c5f71f8484f2fa7ca89db6f323d490e03d6cfb26302f76\n",
      "  Stored in directory: /home/oliver/.cache/pip/wheels/45/40/b1/d967717e72f447e185612340ce4a35f0d0584802bcfb4397e0\n",
      "Successfully built cdpkit\n",
      "Installing collected packages: cdpkit\n",
      "Successfully installed cdpkit-0.9.0\n"
     ]
    }
   ],
   "source": [
    "! pip install cdpkit"
   ]
  },
  {
   "cell_type": "markdown",
   "metadata": {},
   "source": [
    "Import the [CDPL.Chem](https://cdpkit.org/v1.0.0/cdpl_api_doc/python_api_doc/namespaceCDPL_1_1Chem.html) module - it offers functionality for the processing of chemical data and is one of the most frequently used modules of the CDPL"
   ]
  },
  {
   "cell_type": "code",
   "execution_count": 5,
   "metadata": {},
   "outputs": [],
   "source": [
    "import CDPL.Chem as Chem"
   ]
  },
  {
   "cell_type": "markdown",
   "metadata": {},
   "source": [
    "\n",
    "Reading molecules from an input file\n",
    "------------------------------------\n",
    "\n",
    "You'll frequently need to read or write molecular data from a variety of file formats.\n",
    "Using CDPKit, you can easily read and write molecules saved in various file formats, including *SDF*, *SMILES*, *MOL*, *MOL2*, *CDF*, and others.\n",
    "\n",
    ".. note::\n",
    "    The CDF format is a binary format and CDPKit's native file format that can be used to store molecules/pharmacophores and their associated metadata\n",
    "    in a space and processing time efficient manner.\n",
    "\n",
    "The class `[Chem.MoleculeReader](https://cdpkit.org/v1.0.0/cdpl_api_doc/python_api_doc/classCDPL_1_1Chem_1_1MoleculeReader.html) is rather versatile and can read molecules stored in\n",
    "different formats (SDF, SMILES, MOL, MOL2, CDF, etc.) thus eliminating the need to call a specific reader for each format.\n",
    "Here is a simple example of how to read molecules from an input file:\n",
    "\n",
    "When loaded, the CDPL.Chem module provides a number of classes and functions that can be used to process chemical data.\n",
    "\n",
    ".. note::\n",
    "    The CDPL is based on C++ and therefore object oriented ([Object oriented programming](https://en.wikipedia.org/wiki/Object-oriented_programming)). When using any class, it first needs to be initialized and then it can be used to perform certain actions (e.g. read molecules from an input file)."
   ]
  },
  {
   "cell_type": "code",
   "execution_count": 9,
   "metadata": {},
   "outputs": [
    {
     "name": "stdout",
     "output_type": "stream",
     "text": [
      "molecule object:  <CDPL.Chem._chem.BasicMolecule object at 0x7f501ceeaea0>\n"
     ]
    }
   ],
   "source": [
    "reader = Chem.MoleculeReader(\"../data/test_file.sdf\")\n",
    "\n",
    "# create an instance of the default implementation of the Chem.Molecule interface\n",
    "mol = Chem.BasicMolecule()\n",
    "mols = list()\n",
    "# Iterate over each molecule and print atom and bond count\n",
    "\n",
    "while reader.read(mol):\n",
    "  print(\"molecule object: \", mol)\n",
    "  mols.append(mol.clone())"
   ]
  },
  {
   "cell_type": "markdown",
   "metadata": {},
   "source": []
  }
 ],
 "metadata": {
  "kernelspec": {
   "display_name": "base",
   "language": "python",
   "name": "python3"
  },
  "language_info": {
   "codemirror_mode": {
    "name": "ipython",
    "version": 3
   },
   "file_extension": ".py",
   "mimetype": "text/x-python",
   "name": "python",
   "nbconvert_exporter": "python",
   "pygments_lexer": "ipython3",
   "version": "3.9.18"
  },
  "orig_nbformat": 4
 },
 "nbformat": 4,
 "nbformat_minor": 2
}
